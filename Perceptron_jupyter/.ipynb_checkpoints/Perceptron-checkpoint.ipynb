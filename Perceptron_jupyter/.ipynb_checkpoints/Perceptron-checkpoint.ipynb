{
 "cells": [
  {
   "cell_type": "markdown",
   "metadata": {},
   "source": [
    "# 載入Library"
   ]
  },
  {
   "cell_type": "code",
   "execution_count": 37,
   "metadata": {
    "collapsed": true
   },
   "outputs": [],
   "source": [
    "import random\n",
    "import matplotlib.pyplot as plt\n",
    "import numpy as np"
   ]
  },
  {
   "cell_type": "markdown",
   "metadata": {},
   "source": [
    "# 真值表\n",
    "\n",
    "| X1 | X2 | Y |\n",
    "|:---:|:---:|:---:|\n",
    "|0|0|0|\n",
    "|0|1|0|\n",
    "|1|0|0|\n",
    "|1|1|1|\n"
   ]
  },
  {
   "cell_type": "markdown",
   "metadata": {},
   "source": [
    "# 變數"
   ]
  },
  {
   "cell_type": "code",
   "execution_count": 38,
   "metadata": {
    "collapsed": true
   },
   "outputs": [],
   "source": [
    "# 真值表\n",
    "andValue = [[0,0,0],[0,1,0],[1,0,0],[1,1,1]]\n",
    "\n",
    "# 學習率\n",
    "lrate = 0.2\n",
    "\n",
    "# 訓練次數\n",
    "epoch = 10\n",
    "\n",
    "# 輸出圖的範圍\n",
    "picSize = 3"
   ]
  },
  {
   "cell_type": "code",
   "execution_count": 39,
   "metadata": {},
   "outputs": [
    {
     "data": {
      "text/plain": [
       "4"
      ]
     },
     "execution_count": 39,
     "metadata": {},
     "output_type": "execute_result"
    }
   ],
   "source": [
    "random.randint(1,9)"
   ]
  },
  {
   "cell_type": "markdown",
   "metadata": {},
   "source": [
    "# 函式"
   ]
  },
  {
   "cell_type": "code",
   "execution_count": 40,
   "metadata": {
    "collapsed": true
   },
   "outputs": [],
   "source": [
    "# 亂數生成權重\n",
    "def getWeight():\n",
    "    weight = []\n",
    "    for i in range(0,3):\n",
    "        weight.append(int(random.randint(1,9))/10)\n",
    "    return weight"
   ]
  },
  {
   "cell_type": "code",
   "execution_count": 41,
   "metadata": {
    "collapsed": true
   },
   "outputs": [],
   "source": [
    "# 權重要如何調整\n",
    "def ADDorMINUS(list1,andValue):\n",
    "    \n",
    "    # 目前的權重乘以 X1、X2 加 Bias\n",
    "    Y = list1[0]*andValue[0]+list1[1]*andValue[1]+list1[2]\n",
    "    \n",
    "    # 算出的Y代表0或1、threshold、門檻值、activation function\n",
    "    if Y>=0:\n",
    "        Y=1\n",
    "    else:\n",
    "        Y=0\n",
    "    \n",
    "    # 正確答案\n",
    "    wantedY = andValue[2]\n",
    "    \n",
    "    # 對答案\n",
    "    if Y < wantedY: # add\n",
    "        return 1\n",
    "    elif Y == wantedY: # do nothing\n",
    "        return 0\n",
    "    else: # minus\n",
    "        return -1"
   ]
  },
  {
   "cell_type": "code",
   "execution_count": 42,
   "metadata": {
    "collapsed": true
   },
   "outputs": [],
   "source": [
    "# 調整權重 - 加\n",
    "def addList(list1, list2):\n",
    "    newW=[]\n",
    "    for i in range(0,3):\n",
    "        newW.append(list1[i]+list2[i]*lrate)\n",
    "    return newW"
   ]
  },
  {
   "cell_type": "code",
   "execution_count": 43,
   "metadata": {
    "collapsed": true
   },
   "outputs": [],
   "source": [
    "# 調整權重 - 減\n",
    "def minusList(list1, list2):\n",
    "    newW=[]\n",
    "    for i in range(0,3):\n",
    "        newW.append(list1[i]-list2[i]*lrate)\n",
    "    return newW"
   ]
  },
  {
   "cell_type": "code",
   "execution_count": 44,
   "metadata": {
    "collapsed": true
   },
   "outputs": [],
   "source": [
    "# 畫出結果\n",
    "def draw(weight):\n",
    "    \n",
    "    # 定義範圍\n",
    "    plt.xlim(-picSize, picSize)\n",
    "    plt.ylim(-picSize, picSize)\n",
    "    \n",
    "    # 調整XY軸位置\n",
    "    ax = plt.gca()\n",
    "    ax.spines['bottom'].set_position(('data', 0)) # X軸\n",
    "    ax.spines['left'].set_position(('data', 0)) # Y軸\n",
    "    ax.spines['top'].set_color('none')\n",
    "    ax.spines['right'].set_color('none')\n",
    "    \n",
    "    # And Value\n",
    "    plt.plot([0,0,1],[0,1,0],'ro') # Y為0(紅)\n",
    "    plt.plot([1],[1],'bo') # Y為1(藍)\n",
    "\n",
    "    # 畫線\n",
    "    X1 = np.linspace(-picSize,picSize,10)  # 在-3到3之間生成10個X1值\n",
    "    X2 = [(-weight[2]-weight[0]*k)/weight[1] for k in X1] # 對上述生成的10個數循環求對應的X2\n",
    "    plt.plot(X1,X2,'c-')  # 用生成的10個 X1 X2 值對生成10個點\n",
    "    \n",
    "    plt.show()"
   ]
  },
  {
   "cell_type": "code",
   "execution_count": 45,
   "metadata": {
    "collapsed": true
   },
   "outputs": [],
   "source": [
    "# 列出與權重對應的函式\n",
    "def getFunc(W):\n",
    "    if -W[2]/W[1] < 0:\n",
    "        print('y(x) = '+str(-W[0]/W[1])+'x '+str(-W[2]/W[1]))\n",
    "    else:\n",
    "         print('y(x) = '+str(-W[0]/W[1])+'x +'+str(-W[2]/W[1]))"
   ]
  },
  {
   "cell_type": "markdown",
   "metadata": {},
   "source": [
    "# Main"
   ]
  },
  {
   "cell_type": "code",
   "execution_count": 46,
   "metadata": {
    "scrolled": false
   },
   "outputs": [
    {
     "name": "stdout",
     "output_type": "stream",
     "text": [
      "epoch = 0 i = 0\n",
      "W = [0.8, 0.8, 0.5]\n",
      "sign: -1\n",
      " \n",
      "epoch = 0 i = 1\n",
      "W = [0.8, 0.8, 0.3]\n",
      "sign: -1\n",
      " \n",
      "epoch = 0 i = 2\n",
      "W = [0.8, 0.6000000000000001, 0.09999999999999998]\n",
      "sign: -1\n",
      " \n",
      "epoch = 0 i = 3\n",
      "W = [0.6000000000000001, 0.6000000000000001, -0.10000000000000003]\n",
      "sign: 0\n",
      " \n",
      "epoch = 1 i = 0\n",
      "W = [0.6000000000000001, 0.6000000000000001, -0.10000000000000003]\n",
      "sign: 0\n",
      " \n",
      "epoch = 1 i = 1\n",
      "W = [0.6000000000000001, 0.6000000000000001, -0.10000000000000003]\n",
      "sign: -1\n",
      " \n",
      "epoch = 1 i = 2\n",
      "W = [0.6000000000000001, 0.4000000000000001, -0.30000000000000004]\n",
      "sign: -1\n",
      " \n",
      "epoch = 1 i = 3\n",
      "W = [0.4000000000000001, 0.4000000000000001, -0.5]\n",
      "sign: 0\n",
      " \n",
      "epoch = 2 i = 0\n",
      "W = [0.4000000000000001, 0.4000000000000001, -0.5]\n",
      "sign: 0\n",
      " \n",
      "epoch = 2 i = 1\n",
      "W = [0.4000000000000001, 0.4000000000000001, -0.5]\n",
      "sign: 0\n",
      " \n",
      "epoch = 2 i = 2\n",
      "W = [0.4000000000000001, 0.4000000000000001, -0.5]\n",
      "sign: 0\n",
      " \n",
      "epoch = 2 i = 3\n",
      "W = [0.4000000000000001, 0.4000000000000001, -0.5]\n",
      "sign: 0\n",
      " \n",
      "y(x) = -1.0x +1.2499999999999998\n"
     ]
    },
    {
     "data": {
      "image/png": "[encoded data removed]",
      "text/plain": [
       "<matplotlib.figure.Figure at 0x15f503d72b0>"
      ]
     },
     "metadata": {},
     "output_type": "display_data"
    }
   ],
   "source": [
    "#亂數取得權重\n",
    "W = getWeight()\n",
    "\n",
    "for j in range(0,epoch):\n",
    "    \n",
    "    # 是否繼續修正\n",
    "    totalError = 0\n",
    "    \n",
    "    for i in range(0, len(andValue)): #一輪\n",
    "        \n",
    "        print('epoch = '+str(j)+' i = '+str(i))\n",
    "        print('W = '+str(W))\n",
    "        \n",
    "        # 加或減\n",
    "        sign = ADDorMINUS(W,andValue[i])\n",
    "        print('sign: '+str(sign))\n",
    "        \n",
    "        # 調整權重\n",
    "        if sign == 1: # 加\n",
    "            W = addList(W, [andValue[i][0],andValue[i][1],1])\n",
    "            totalError += 1\n",
    "        elif sign == -1: # 減\n",
    "            W = minusList(W, [andValue[i][0],andValue[i][1],1])\n",
    "            totalError += 1\n",
    "            \n",
    "        # 解決draw()中除以0情況\n",
    "        if W[1] == 0: \n",
    "            W[1] = 0.0000000000001\n",
    "            \n",
    "        print(' ')\n",
    "        \n",
    "        \n",
    "    # 一輪中四次都沒修正權重時，停止迴圈\n",
    "    if totalError == 0:\n",
    "        break\n",
    "\n",
    "# 列出最後函式\n",
    "getFunc(W)\n",
    "\n",
    "# 畫出結果\n",
    "draw(W)"
   ]
  },
  {
   "cell_type": "code",
   "execution_count": null,
   "metadata": {
    "collapsed": true
   },
   "outputs": [],
   "source": []
  },
  {
   "cell_type": "code",
   "execution_count": null,
   "metadata": {
    "collapsed": true
   },
   "outputs": [],
   "source": []
  }
 ],
 "metadata": {
  "kernelspec": {
   "display_name": "Python 3",
   "language": "python",
   "name": "python3"
  },
  "language_info": {
   "codemirror_mode": {
    "name": "ipython",
    "version": 3
   },
   "file_extension": ".py",
   "mimetype": "text/x-python",
   "name": "python",
   "nbconvert_exporter": "python",
   "pygments_lexer": "ipython3",
   "version": "3.6.2"
  }
 },
 "nbformat": 4,
 "nbformat_minor": 2
}
